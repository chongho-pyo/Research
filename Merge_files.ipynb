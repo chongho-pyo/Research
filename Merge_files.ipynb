{
  "nbformat": 4,
  "nbformat_minor": 0,
  "metadata": {
    "colab": {
      "name": "Merge_files",
      "provenance": [],
      "collapsed_sections": []
    },
    "kernelspec": {
      "name": "python3",
      "display_name": "Python 3"
    },
    "accelerator": "GPU"
  },
  "cells": [
    {
      "cell_type": "code",
      "metadata": {
        "id": "WneHWDLyO9wZ"
      },
      "source": [
        "import pandas as pd\r\n",
        "import numpy as np\r\n",
        "from tqdm import tqdm\r\n",
        "\r\n",
        "from google.colab import drive"
      ],
      "execution_count": null,
      "outputs": []
    },
    {
      "cell_type": "code",
      "metadata": {
        "colab": {
          "base_uri": "https://localhost:8080/"
        },
        "id": "J1s6OQD8Ppr_",
        "outputId": "be402bcb-1fc7-487d-86c4-f09075fe85c6"
      },
      "source": [
        "drive.mount('/content/drive')"
      ],
      "execution_count": null,
      "outputs": [
        {
          "output_type": "stream",
          "text": [
            "Mounted at /content/drive\n"
          ],
          "name": "stdout"
        }
      ]
    },
    {
      "cell_type": "code",
      "metadata": {
        "id": "fSGvSDrvPCPm"
      },
      "source": [
        "path = \"/content/drive/MyDrive/Colab/Research/Data/X_#ofCompanies,Total_transaction_value/Raw_data/\""
      ],
      "execution_count": null,
      "outputs": []
    },
    {
      "cell_type": "code",
      "metadata": {
        "id": "KDVSotvSVCsw"
      },
      "source": [
        "file_dict = {\"Brazil\":1, \"Canada\":3, \"China\":3, \"France\":3, \"Germany\":3, \"India\":1, \"KoreaSouth\":1, \"Russia\":2, \"SouthAfrica\":1, \"UnitedKingdom\":5, \"UnitedStatesofAmerica\":18}"
      ],
      "execution_count": null,
      "outputs": []
    },
    {
      "cell_type": "code",
      "metadata": {
        "colab": {
          "base_uri": "https://localhost:8080/"
        },
        "id": "Eyh68Z4rVcsW",
        "outputId": "01d76f31-a85b-4a04-dc92-4a1c3cae73f5"
      },
      "source": [
        "for elem in file_dict.keys():\r\n",
        "  print(elem)"
      ],
      "execution_count": null,
      "outputs": [
        {
          "output_type": "stream",
          "text": [
            "Brazil\n",
            "Canada\n",
            "China\n",
            "France\n",
            "Germany\n",
            "India\n",
            "KoreaSouth\n",
            "Russia\n",
            "SouthAfrica\n",
            "UnitedKingdom\n",
            "UnitedStatesofAmerica\n"
          ],
          "name": "stdout"
        }
      ]
    },
    {
      "cell_type": "code",
      "metadata": {
        "colab": {
          "base_uri": "https://localhost:8080/"
        },
        "id": "cn3xtKuoVfsf",
        "outputId": "46aacc32-ec50-4487-ada8-7549e71830e4"
      },
      "source": [
        "file_dict.values()"
      ],
      "execution_count": null,
      "outputs": [
        {
          "output_type": "execute_result",
          "data": {
            "text/plain": [
              "dict_values([1, 3, 3, 3, 3, 1, 1, 2, 1, 5, 18])"
            ]
          },
          "metadata": {
            "tags": []
          },
          "execution_count": 19
        }
      ]
    },
    {
      "cell_type": "code",
      "metadata": {
        "id": "JghszmqRVrw3"
      },
      "source": [
        "column_names = ['All Transactions Announced Date',\r\n",
        " 'Target/Issuer',\r\n",
        " 'Exchange:Ticker',\r\n",
        " 'Geographic Locations [Target/Issuer]',\r\n",
        " 'Transaction Types',\r\n",
        " 'Transaction Status',\r\n",
        " 'Total Transaction Value ($USDmm, Historical rate)',\r\n",
        " 'Buyers/Investors',\r\n",
        " 'Sellers',\r\n",
        " 'CIQ Transaction ID',\r\n",
        " 'Industry Classifications [Target/Issuer]',\r\n",
        " 'M&A Announced Date',\r\n",
        " 'Excel Company ID [Target/Issuer]',\r\n",
        " 'Excel Company ID [Buyers/Investors]']"
      ],
      "execution_count": null,
      "outputs": []
    },
    {
      "cell_type": "code",
      "metadata": {
        "colab": {
          "base_uri": "https://localhost:8080/"
        },
        "id": "QizqaqPPV_7p",
        "outputId": "a2393825-2afa-4065-d744-20d579796b38"
      },
      "source": [
        "for country in file_dict.keys():\r\n",
        "  max_num = file_dict[country] #value 값\r\n",
        "  df_merged = pd.DataFrame(columns = column_names) #병합을 위한 DataFrame 기준 생성\r\n",
        "\r\n",
        "  for file_no in tqdm(range(1, max_num + 1)):\r\n",
        "    #각 나라별 파일을 순서로 읽는다\r\n",
        "    #names를 설정해줘야 함\r\n",
        "    df_tmp = pd.read_excel(path + country + \"/\" + country + \" \" + '(' + str(file_no) + \").xls\", names = column_names)\r\n",
        "    df_tmp = df_tmp.iloc[7:]\r\n",
        "    #DataFrame 간의 병합\r\n",
        "    df_merged = pd.concat([df_merged, df_tmp])\r\n",
        "\r\n",
        "  #원래 코드: df_merged.to_excel(\"경로\") -> 나라별 #ofTransactions 저장\r\n",
        "  print(len(df_merged))"
      ],
      "execution_count": null,
      "outputs": [
        {
          "output_type": "stream",
          "text": [
            "100%|██████████| 1/1 [00:00<00:00,  4.36it/s]\n",
            "  0%|          | 0/3 [00:00<?, ?it/s]"
          ],
          "name": "stderr"
        },
        {
          "output_type": "stream",
          "text": [
            "5517\n"
          ],
          "name": "stdout"
        },
        {
          "output_type": "stream",
          "text": [
            "100%|██████████| 3/3 [00:00<00:00,  3.18it/s]\n",
            "  0%|          | 0/3 [00:00<?, ?it/s]"
          ],
          "name": "stderr"
        },
        {
          "output_type": "stream",
          "text": [
            "21551\n"
          ],
          "name": "stdout"
        },
        {
          "output_type": "stream",
          "text": [
            "100%|██████████| 3/3 [00:01<00:00,  2.35it/s]\n",
            "  0%|          | 0/3 [00:00<?, ?it/s]"
          ],
          "name": "stderr"
        },
        {
          "output_type": "stream",
          "text": [
            "29549\n"
          ],
          "name": "stdout"
        },
        {
          "output_type": "stream",
          "text": [
            "100%|██████████| 3/3 [00:00<00:00,  3.36it/s]\n",
            "  0%|          | 0/3 [00:00<?, ?it/s]"
          ],
          "name": "stderr"
        },
        {
          "output_type": "stream",
          "text": [
            "22158\n"
          ],
          "name": "stdout"
        },
        {
          "output_type": "stream",
          "text": [
            "100%|██████████| 3/3 [00:01<00:00,  2.90it/s]\n",
            "  0%|          | 0/1 [00:00<?, ?it/s]"
          ],
          "name": "stderr"
        },
        {
          "output_type": "stream",
          "text": [
            "22946\n"
          ],
          "name": "stdout"
        },
        {
          "output_type": "stream",
          "text": [
            "100%|██████████| 1/1 [00:00<00:00,  2.65it/s]\n",
            "  0%|          | 0/1 [00:00<?, ?it/s]"
          ],
          "name": "stderr"
        },
        {
          "output_type": "stream",
          "text": [
            "9413\n"
          ],
          "name": "stdout"
        },
        {
          "output_type": "stream",
          "text": [
            "100%|██████████| 1/1 [00:00<00:00,  3.57it/s]\n",
            "  0%|          | 0/2 [00:00<?, ?it/s]"
          ],
          "name": "stderr"
        },
        {
          "output_type": "stream",
          "text": [
            "7209\n"
          ],
          "name": "stdout"
        },
        {
          "output_type": "stream",
          "text": [
            "100%|██████████| 2/2 [00:00<00:00,  3.26it/s]\n",
            "  0%|          | 0/1 [00:00<?, ?it/s]"
          ],
          "name": "stderr"
        },
        {
          "output_type": "stream",
          "text": [
            "16225\n"
          ],
          "name": "stdout"
        },
        {
          "output_type": "stream",
          "text": [
            "100%|██████████| 1/1 [00:00<00:00,  3.23it/s]\n",
            "  0%|          | 0/5 [00:00<?, ?it/s]"
          ],
          "name": "stderr"
        },
        {
          "output_type": "stream",
          "text": [
            "5733\n"
          ],
          "name": "stdout"
        },
        {
          "output_type": "stream",
          "text": [
            "100%|██████████| 5/5 [00:01<00:00,  2.67it/s]\n",
            "  0%|          | 0/18 [00:00<?, ?it/s]"
          ],
          "name": "stderr"
        },
        {
          "output_type": "stream",
          "text": [
            "43694\n"
          ],
          "name": "stdout"
        },
        {
          "output_type": "stream",
          "text": [
            "100%|██████████| 18/18 [00:07<00:00,  2.39it/s]"
          ],
          "name": "stderr"
        },
        {
          "output_type": "stream",
          "text": [
            "170407\n"
          ],
          "name": "stdout"
        },
        {
          "output_type": "stream",
          "text": [
            "\n"
          ],
          "name": "stderr"
        }
      ]
    },
    {
      "cell_type": "code",
      "metadata": {
        "colab": {
          "base_uri": "https://localhost:8080/"
        },
        "id": "nXvvHkojbKmp",
        "outputId": "bad37cba-9f33-43ea-deef-41b1e21c9f48"
      },
      "source": [
        "df_merged.shape"
      ],
      "execution_count": null,
      "outputs": [
        {
          "output_type": "execute_result",
          "data": {
            "text/plain": [
              "(354402, 14)"
            ]
          },
          "metadata": {
            "tags": []
          },
          "execution_count": 15
        }
      ]
    },
    {
      "cell_type": "code",
      "metadata": {
        "id": "hWSgxLzpib1H"
      },
      "source": [
        ""
      ],
      "execution_count": null,
      "outputs": []
    }
  ]
}