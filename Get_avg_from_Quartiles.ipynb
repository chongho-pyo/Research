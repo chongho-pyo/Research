{
  "nbformat": 4,
  "nbformat_minor": 0,
  "metadata": {
    "colab": {
      "name": "Get_avg_from_Quartiles",
      "provenance": [],
      "collapsed_sections": []
    },
    "kernelspec": {
      "name": "python3",
      "display_name": "Python 3"
    },
    "accelerator": "GPU"
  },
  "cells": [
    {
      "cell_type": "code",
      "metadata": {
        "id": "JwADtdJRE6Vj"
      },
      "source": [
        "import numpy as np\r\n",
        "import pandas as pd\r\n",
        "from tqdm import tqdm"
      ],
      "execution_count": null,
      "outputs": []
    },
    {
      "cell_type": "code",
      "metadata": {
        "id": "4OSGglqKFTW-"
      },
      "source": [
        "file_dict = {\"Brazil\":1, \"Canada\":3, \"China\":3, \"France\":3, \"Germany\":3, \"India\":1, \"KoreaSouth\":1, \"Russia\":2, \"SouthAfrica\":1, \"UnitedKingdom\":5, \"UnitedStatesofAmerica\":18}"
      ],
      "execution_count": null,
      "outputs": []
    },
    {
      "cell_type": "code",
      "metadata": {
        "id": "UeUoTGhDFLXy"
      },
      "source": [
        "path = \"/content/drive/MyDrive/Colab/Research/Data/Y_MC,TEV,PER/ALL/\""
      ],
      "execution_count": null,
      "outputs": []
    },
    {
      "cell_type": "code",
      "metadata": {
        "colab": {
          "base_uri": "https://localhost:8080/"
        },
        "id": "DHOJJi4-Ge41",
        "outputId": "919c94fe-af8e-4842-c6bf-3dbb836829b8"
      },
      "source": [
        "df_columns = pd.read_excel(\"/content/drive/MyDrive/Colab/Research/Data/column_names.xlsx\")\r\n",
        "column_list = list(df_columns[\"Columns\"])[3:-1] # Company Name, Exchange:Ticker, Geographic Locations, Excel Company ID 제외\r\n",
        "len(column_list)"
      ],
      "execution_count": null,
      "outputs": [
        {
          "output_type": "execute_result",
          "data": {
            "text/plain": [
              "120"
            ]
          },
          "metadata": {
            "tags": []
          },
          "execution_count": 4
        }
      ]
    },
    {
      "cell_type": "code",
      "metadata": {
        "id": "LqLsiHtrF0Ep"
      },
      "source": [
        "def is_number(value) :\r\n",
        "    try :\r\n",
        "        float(value)\r\n",
        "        return True\r\n",
        "    except ValueError :\r\n",
        "        return False"
      ],
      "execution_count": null,
      "outputs": []
    },
    {
      "cell_type": "code",
      "metadata": {
        "colab": {
          "base_uri": "https://localhost:8080/",
          "height": 200
        },
        "id": "WssYHTPvGTzA",
        "outputId": "4ba97296-c608-4c2a-80ba-83b86c9977b0"
      },
      "source": [
        "df_new = pd.DataFrame(columns = column_list)\r\n",
        "df_new"
      ],
      "execution_count": null,
      "outputs": [
        {
          "output_type": "execute_result",
          "data": {
            "text/html": [
              "<div>\n",
              "<style scoped>\n",
              "    .dataframe tbody tr th:only-of-type {\n",
              "        vertical-align: middle;\n",
              "    }\n",
              "\n",
              "    .dataframe tbody tr th {\n",
              "        vertical-align: top;\n",
              "    }\n",
              "\n",
              "    .dataframe thead th {\n",
              "        text-align: right;\n",
              "    }\n",
              "</style>\n",
              "<table border=\"1\" class=\"dataframe\">\n",
              "  <thead>\n",
              "    <tr style=\"text-align: right;\">\n",
              "      <th></th>\n",
              "      <th>Market Capitalization [My Setting] [03/31/2009] ($USDmm, Historical rate)</th>\n",
              "      <th>Market Capitalization [My Setting] [06/30/2009] ($USDmm, Historical rate)</th>\n",
              "      <th>Market Capitalization [My Setting] [9/30/2009] ($USDmm, Historical rate)</th>\n",
              "      <th>Market Capitalization [My Setting] [12/31/2009] ($USDmm, Historical rate)</th>\n",
              "      <th>Market Capitalization [My Setting] [3/31/2010] ($USDmm, Historical rate)</th>\n",
              "      <th>Market Capitalization [My Setting] [6/30/2010] ($USDmm, Historical rate)</th>\n",
              "      <th>Market Capitalization [My Setting] [9/30/2010] ($USDmm, Historical rate)</th>\n",
              "      <th>Market Capitalization [My Setting] [12/31/2010] ($USDmm, Historical rate)</th>\n",
              "      <th>Market Capitalization [My Setting] [3/31/2011] ($USDmm, Historical rate)</th>\n",
              "      <th>Market Capitalization [My Setting] [6/30/2011] ($USDmm, Historical rate)</th>\n",
              "      <th>Market Capitalization [My Setting] [9/30/2011] ($USDmm, Historical rate)</th>\n",
              "      <th>Market Capitalization [My Setting] [12/31/2011] ($USDmm, Historical rate)</th>\n",
              "      <th>Market Capitalization [My Setting] [3/31/2012] ($USDmm, Historical rate)</th>\n",
              "      <th>Market Capitalization [My Setting] [6/30/2012] ($USDmm, Historical rate)</th>\n",
              "      <th>Market Capitalization [My Setting] [9/30/2012] ($USDmm, Historical rate)</th>\n",
              "      <th>Market Capitalization [My Setting] [12/31/2012] ($USDmm, Historical rate)</th>\n",
              "      <th>Market Capitalization [My Setting] [3/31/2013] ($USDmm, Historical rate)</th>\n",
              "      <th>Market Capitalization [My Setting] [6/30/2013] ($USDmm, Historical rate)</th>\n",
              "      <th>Market Capitalization [My Setting] [9/30/2013] ($USDmm, Historical rate)</th>\n",
              "      <th>Market Capitalization [My Setting] [12/31/2013] ($USDmm, Historical rate)</th>\n",
              "      <th>Market Capitalization [My Setting] [3/31/2014] ($USDmm, Historical rate)</th>\n",
              "      <th>Market Capitalization [My Setting] [6/30/2014] ($USDmm, Historical rate)</th>\n",
              "      <th>Market Capitalization [My Setting] [9/30/2014] ($USDmm, Historical rate)</th>\n",
              "      <th>Market Capitalization [My Setting] [12/31/2014] ($USDmm, Historical rate)</th>\n",
              "      <th>Market Capitalization [My Setting] [3/31/2015] ($USDmm, Historical rate)</th>\n",
              "      <th>Market Capitalization [My Setting] [6/30/2015] ($USDmm, Historical rate)</th>\n",
              "      <th>Market Capitalization [My Setting] [9/30/2015] ($USDmm, Historical rate)</th>\n",
              "      <th>Market Capitalization [My Setting] [12/31/2015] ($USDmm, Historical rate)</th>\n",
              "      <th>Market Capitalization [My Setting] [3/31/2016] ($USDmm, Historical rate)</th>\n",
              "      <th>Market Capitalization [My Setting] [6/30/2016] ($USDmm, Historical rate)</th>\n",
              "      <th>Market Capitalization [My Setting] [9/30/2016] ($USDmm, Historical rate)</th>\n",
              "      <th>Market Capitalization [My Setting] [12/31/2016] ($USDmm, Historical rate)</th>\n",
              "      <th>Market Capitalization [My Setting] [3/31/2017] ($USDmm, Historical rate)</th>\n",
              "      <th>Market Capitalization [My Setting] [6/30/2017] ($USDmm, Historical rate)</th>\n",
              "      <th>Market Capitalization [My Setting] [9/30/2017] ($USDmm, Historical rate)</th>\n",
              "      <th>Market Capitalization [My Setting] [12/31/2017] ($USDmm, Historical rate)</th>\n",
              "      <th>Market Capitalization [My Setting] [3/31/2018] ($USDmm, Historical rate)</th>\n",
              "      <th>Market Capitalization [My Setting] [6/30/2018] ($USDmm, Historical rate)</th>\n",
              "      <th>Market Capitalization [My Setting] [9/30/2018] ($USDmm, Historical rate)</th>\n",
              "      <th>Market Capitalization [My Setting] [12/31/2018] ($USDmm, Historical rate)</th>\n",
              "      <th>...</th>\n",
              "      <th>P/LTM Diluted EPS Before Extra [LTM as of 3/31/2009] (x)</th>\n",
              "      <th>P/LTM Diluted EPS Before Extra [LTM as of 6/30/2009] (x)</th>\n",
              "      <th>P/LTM Diluted EPS Before Extra [LTM as of 9/30/2009] (x)</th>\n",
              "      <th>P/LTM Diluted EPS Before Extra [LTM as of 12/31/2009] (x)</th>\n",
              "      <th>P/LTM Diluted EPS Before Extra [LTM as of 3/31/2010] (x)</th>\n",
              "      <th>P/LTM Diluted EPS Before Extra [LTM as of 6/30/2010] (x)</th>\n",
              "      <th>P/LTM Diluted EPS Before Extra [LTM as of 9/30/2010] (x)</th>\n",
              "      <th>P/LTM Diluted EPS Before Extra [LTM as of 12/31/2010] (x)</th>\n",
              "      <th>P/LTM Diluted EPS Before Extra [LTM as of 3/31/2011] (x)</th>\n",
              "      <th>P/LTM Diluted EPS Before Extra [LTM as of 6/30/2011] (x)</th>\n",
              "      <th>P/LTM Diluted EPS Before Extra [LTM as of 9/30/2011] (x)</th>\n",
              "      <th>P/LTM Diluted EPS Before Extra [LTM as of 12/31/2011] (x)</th>\n",
              "      <th>P/LTM Diluted EPS Before Extra [LTM as of 3/31/2012] (x)</th>\n",
              "      <th>P/LTM Diluted EPS Before Extra [LTM as of 6/30/2012] (x)</th>\n",
              "      <th>P/LTM Diluted EPS Before Extra [LTM as of 9/30/2012] (x)</th>\n",
              "      <th>P/LTM Diluted EPS Before Extra [LTM as of 12/31/2012] (x)</th>\n",
              "      <th>P/LTM Diluted EPS Before Extra [LTM as of 3/31/2013] (x)</th>\n",
              "      <th>P/LTM Diluted EPS Before Extra [LTM as of 6/30/2013] (x)</th>\n",
              "      <th>P/LTM Diluted EPS Before Extra [LTM as of 9/30/2013] (x)</th>\n",
              "      <th>P/LTM Diluted EPS Before Extra [LTM as of 12/31/2013] (x)</th>\n",
              "      <th>P/LTM Diluted EPS Before Extra [LTM as of 3/31/2014] (x)</th>\n",
              "      <th>P/LTM Diluted EPS Before Extra [LTM as of 6/30/2014] (x)</th>\n",
              "      <th>P/LTM Diluted EPS Before Extra [LTM as of 9/30/2014] (x)</th>\n",
              "      <th>P/LTM Diluted EPS Before Extra [LTM as of 12/31/2014] (x)</th>\n",
              "      <th>P/LTM Diluted EPS Before Extra [LTM as of 3/31/2015] (x)</th>\n",
              "      <th>P/LTM Diluted EPS Before Extra [LTM as of 6/30/2015] (x)</th>\n",
              "      <th>P/LTM Diluted EPS Before Extra [LTM as of 9/30/2015] (x)</th>\n",
              "      <th>P/LTM Diluted EPS Before Extra [LTM as of 12/31/2015] (x)</th>\n",
              "      <th>P/LTM Diluted EPS Before Extra [LTM as of 3/31/2016] (x)</th>\n",
              "      <th>P/LTM Diluted EPS Before Extra [LTM as of 6/30/2016] (x)</th>\n",
              "      <th>P/LTM Diluted EPS Before Extra [LTM as of 9/30/2016] (x)</th>\n",
              "      <th>P/LTM Diluted EPS Before Extra [LTM as of 12/31/2016] (x)</th>\n",
              "      <th>P/LTM Diluted EPS Before Extra [LTM as of 3/31/2017] (x)</th>\n",
              "      <th>P/LTM Diluted EPS Before Extra [LTM as of 6/30/2017] (x)</th>\n",
              "      <th>P/LTM Diluted EPS Before Extra [LTM as of 9/30/2017] (x)</th>\n",
              "      <th>P/LTM Diluted EPS Before Extra [LTM as of 12/31/2017] (x)</th>\n",
              "      <th>P/LTM Diluted EPS Before Extra [LTM as of 3/31/2018] (x)</th>\n",
              "      <th>P/LTM Diluted EPS Before Extra [LTM as of 6/30/2018] (x)</th>\n",
              "      <th>P/LTM Diluted EPS Before Extra [LTM as of 9/30/2018] (x)</th>\n",
              "      <th>P/LTM Diluted EPS Before Extra [LTM as of 12/31/2018] (x)</th>\n",
              "    </tr>\n",
              "  </thead>\n",
              "  <tbody>\n",
              "  </tbody>\n",
              "</table>\n",
              "<p>0 rows × 120 columns</p>\n",
              "</div>"
            ],
            "text/plain": [
              "Empty DataFrame\n",
              "Columns: [Market Capitalization [My Setting] [03/31/2009] ($USDmm, Historical rate), Market Capitalization [My Setting] [06/30/2009] ($USDmm, Historical rate), Market Capitalization [My Setting] [9/30/2009] ($USDmm, Historical rate), Market Capitalization [My Setting] [12/31/2009] ($USDmm, Historical rate), Market Capitalization [My Setting] [3/31/2010] ($USDmm, Historical rate), Market Capitalization [My Setting] [6/30/2010] ($USDmm, Historical rate), Market Capitalization [My Setting] [9/30/2010] ($USDmm, Historical rate), Market Capitalization [My Setting] [12/31/2010] ($USDmm, Historical rate), Market Capitalization [My Setting] [3/31/2011] ($USDmm, Historical rate), Market Capitalization [My Setting] [6/30/2011] ($USDmm, Historical rate), Market Capitalization [My Setting] [9/30/2011] ($USDmm, Historical rate), Market Capitalization [My Setting] [12/31/2011] ($USDmm, Historical rate), Market Capitalization [My Setting] [3/31/2012] ($USDmm, Historical rate), Market Capitalization [My Setting] [6/30/2012] ($USDmm, Historical rate), Market Capitalization [My Setting] [9/30/2012] ($USDmm, Historical rate), Market Capitalization [My Setting] [12/31/2012] ($USDmm, Historical rate), Market Capitalization [My Setting] [3/31/2013] ($USDmm, Historical rate), Market Capitalization [My Setting] [6/30/2013] ($USDmm, Historical rate), Market Capitalization [My Setting] [9/30/2013] ($USDmm, Historical rate), Market Capitalization [My Setting] [12/31/2013] ($USDmm, Historical rate), Market Capitalization [My Setting] [3/31/2014] ($USDmm, Historical rate), Market Capitalization [My Setting] [6/30/2014] ($USDmm, Historical rate), Market Capitalization [My Setting] [9/30/2014] ($USDmm, Historical rate), Market Capitalization [My Setting] [12/31/2014] ($USDmm, Historical rate), Market Capitalization [My Setting] [3/31/2015] ($USDmm, Historical rate), Market Capitalization [My Setting] [6/30/2015] ($USDmm, Historical rate), Market Capitalization [My Setting] [9/30/2015] ($USDmm, Historical rate), Market Capitalization [My Setting] [12/31/2015] ($USDmm, Historical rate), Market Capitalization [My Setting] [3/31/2016] ($USDmm, Historical rate), Market Capitalization [My Setting] [6/30/2016] ($USDmm, Historical rate), Market Capitalization [My Setting] [9/30/2016] ($USDmm, Historical rate), Market Capitalization [My Setting] [12/31/2016] ($USDmm, Historical rate), Market Capitalization [My Setting] [3/31/2017] ($USDmm, Historical rate), Market Capitalization [My Setting] [6/30/2017] ($USDmm, Historical rate), Market Capitalization [My Setting] [9/30/2017] ($USDmm, Historical rate), Market Capitalization [My Setting] [12/31/2017] ($USDmm, Historical rate), Market Capitalization [My Setting] [3/31/2018] ($USDmm, Historical rate), Market Capitalization [My Setting] [6/30/2018] ($USDmm, Historical rate), Market Capitalization [My Setting] [9/30/2018] ($USDmm, Historical rate), Market Capitalization [My Setting] [12/31/2018] ($USDmm, Historical rate), Total Enterprise Value [My Setting] [3/31/2009] ($USDmm, Historical rate), Total Enterprise Value [My Setting] [6/30/2009] ($USDmm, Historical rate), Total Enterprise Value [My Setting] [9/30/2009] ($USDmm, Historical rate), Total Enterprise Value [My Setting] [12/31/2009] ($USDmm, Historical rate), Total Enterprise Value [My Setting] [3/31/2010] ($USDmm, Historical rate), Total Enterprise Value [My Setting] [6/30/2010] ($USDmm, Historical rate), Total Enterprise Value [My Setting] [9/30/2010] ($USDmm, Historical rate), Total Enterprise Value [My Setting] [12/31/2010] ($USDmm, Historical rate), Total Enterprise Value [My Setting] [3/31/2011] ($USDmm, Historical rate), Total Enterprise Value [My Setting] [6/30/2011] ($USDmm, Historical rate), Total Enterprise Value [My Setting] [9/30/2011] ($USDmm, Historical rate), Total Enterprise Value [My Setting] [12/31/2011] ($USDmm, Historical rate), Total Enterprise Value [My Setting] [3/31/2012] ($USDmm, Historical rate), Total Enterprise Value [My Setting] [6/30/2012] ($USDmm, Historical rate), Total Enterprise Value [My Setting] [9/30/2012] ($USDmm, Historical rate), Total Enterprise Value [My Setting] [12/31/2012] ($USDmm, Historical rate), Total Enterprise Value [My Setting] [3/31/2013] ($USDmm, Historical rate), Total Enterprise Value [My Setting] [6/30/2013] ($USDmm, Historical rate), Total Enterprise Value [My Setting] [9/30/2013] ($USDmm, Historical rate), Total Enterprise Value [My Setting] [12/31/2013] ($USDmm, Historical rate), Total Enterprise Value [My Setting] [3/31/2014] ($USDmm, Historical rate), Total Enterprise Value [My Setting] [6/30/2014] ($USDmm, Historical rate), Total Enterprise Value [My Setting] [9/30/2014] ($USDmm, Historical rate), Total Enterprise Value [My Setting] [12/31/2014] ($USDmm, Historical rate), Total Enterprise Value [My Setting] [3/31/2015] ($USDmm, Historical rate), Total Enterprise Value [My Setting] [6/30/2015] ($USDmm, Historical rate), Total Enterprise Value [My Setting] [9/30/2015] ($USDmm, Historical rate), Total Enterprise Value [My Setting] [12/31/2015] ($USDmm, Historical rate), Total Enterprise Value [My Setting] [3/31/2016] ($USDmm, Historical rate), Total Enterprise Value [My Setting] [6/30/2016] ($USDmm, Historical rate), Total Enterprise Value [My Setting] [9/30/2016] ($USDmm, Historical rate), Total Enterprise Value [My Setting] [12/31/2016] ($USDmm, Historical rate), Total Enterprise Value [My Setting] [3/31/2017] ($USDmm, Historical rate), Total Enterprise Value [My Setting] [6/30/2017] ($USDmm, Historical rate), Total Enterprise Value [My Setting] [9/30/2017] ($USDmm, Historical rate), Total Enterprise Value [My Setting] [12/31/2017] ($USDmm, Historical rate), Total Enterprise Value [My Setting] [3/31/2018] ($USDmm, Historical rate), Total Enterprise Value [My Setting] [6/30/2018] ($USDmm, Historical rate), Total Enterprise Value [My Setting] [9/30/2018] ($USDmm, Historical rate), Total Enterprise Value [My Setting] [12/31/2018] ($USDmm, Historical rate), P/LTM Diluted EPS Before Extra [LTM as of 3/31/2009] (x), P/LTM Diluted EPS Before Extra [LTM as of 6/30/2009] (x), P/LTM Diluted EPS Before Extra [LTM as of 9/30/2009] (x), P/LTM Diluted EPS Before Extra [LTM as of 12/31/2009] (x), P/LTM Diluted EPS Before Extra [LTM as of 3/31/2010] (x), P/LTM Diluted EPS Before Extra [LTM as of 6/30/2010] (x), P/LTM Diluted EPS Before Extra [LTM as of 9/30/2010] (x), P/LTM Diluted EPS Before Extra [LTM as of 12/31/2010] (x), P/LTM Diluted EPS Before Extra [LTM as of 3/31/2011] (x), P/LTM Diluted EPS Before Extra [LTM as of 6/30/2011] (x), P/LTM Diluted EPS Before Extra [LTM as of 9/30/2011] (x), P/LTM Diluted EPS Before Extra [LTM as of 12/31/2011] (x), P/LTM Diluted EPS Before Extra [LTM as of 3/31/2012] (x), P/LTM Diluted EPS Before Extra [LTM as of 6/30/2012] (x), P/LTM Diluted EPS Before Extra [LTM as of 9/30/2012] (x), P/LTM Diluted EPS Before Extra [LTM as of 12/31/2012] (x), P/LTM Diluted EPS Before Extra [LTM as of 3/31/2013] (x), P/LTM Diluted EPS Before Extra [LTM as of 6/30/2013] (x), P/LTM Diluted EPS Before Extra [LTM as of 9/30/2013] (x), P/LTM Diluted EPS Before Extra [LTM as of 12/31/2013] (x), ...]\n",
              "Index: []\n",
              "\n",
              "[0 rows x 120 columns]"
            ]
          },
          "metadata": {
            "tags": []
          },
          "execution_count": 6
        }
      ]
    },
    {
      "cell_type": "code",
      "metadata": {
        "colab": {
          "base_uri": "https://localhost:8080/"
        },
        "id": "ZMVBIPqxGYbJ",
        "outputId": "77e94775-afe3-432b-f46a-156393b64c6e"
      },
      "source": [
        "\r\n",
        "for country in tqdm(file_dict.keys()):\r\n",
        "  if country == \"UnitedKingdom\" or country == \"UnitedStatesofAmerica\":\r\n",
        "    continue # 영국, 미국은 이후에 따로 처리\r\n",
        "\r\n",
        "  else:\r\n",
        "    result = []\r\n",
        "    df_raw = pd.read_excel(path + country + \"_ALL.xlsx\")\r\n",
        "    \r\n",
        "    if len(df_raw[df_raw.duplicated()]) == 0: # 중복된 정보가 없을 경우에만 실행\r\n",
        "      for col_no in range(4, 124):\r\n",
        "        tmp = []\r\n",
        "        quan_list = []\r\n",
        "        filt_tmp = []\r\n",
        "\r\n",
        "        for data in df_raw.iloc[:, col_no]:\r\n",
        "          if is_number(data) == True and data != 0: # 실수값 중 0이 아닌 값들만 저장\r\n",
        "            tmp.append(float(data))\r\n",
        "        \r\n",
        "        quan_list = np.quantile(tmp, [0.25, 0.50, 0.75], interpolation = 'nearest')\r\n",
        "\r\n",
        "        for elem in tmp:\r\n",
        "          if elem >= float(quan_list[0]) and elem <= float(quan_list[2]): # 경계값 포함\r\n",
        "            filt_tmp.append(elem)\r\n",
        "\r\n",
        "        if len(tmp) == 0:\r\n",
        "          avg_25_75 = 0\r\n",
        "          print(df_raw.iloc[0, col_no])\r\n",
        "        \r\n",
        "        else:\r\n",
        "          avg_25_75 = sum(tmp) / len(tmp)\r\n",
        "\r\n",
        "        result.append(avg_25_75)\r\n",
        "\r\n",
        "      df_new.loc[country] = result"
      ],
      "execution_count": null,
      "outputs": [
        {
          "output_type": "stream",
          "text": [
            "100%|██████████| 11/11 [29:19<00:00, 159.91s/it]\n"
          ],
          "name": "stderr"
        }
      ]
    },
    {
      "cell_type": "code",
      "metadata": {
        "id": "Hk5zCPE9XBZY"
      },
      "source": [
        "#df_new.to_excel(path + \"New.xlsx\")"
      ],
      "execution_count": null,
      "outputs": []
    }
  ]
}